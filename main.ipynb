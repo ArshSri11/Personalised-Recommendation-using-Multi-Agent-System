{
 "cells": [
  {
   "cell_type": "code",
   "execution_count": 22,
   "metadata": {},
   "outputs": [],
   "source": [
    "import pandas as pd\n",
    "import numpy as np\n",
    "import torch\n",
    "import faiss\n",
    "import pickle\n",
    "from sentence_transformers import SentenceTransformer\n",
    "\n",
    "!pip freeze > requirements.txt"
   ]
  },
  {
   "cell_type": "code",
   "execution_count": 4,
   "metadata": {},
   "outputs": [],
   "source": [
    "model_save_path = r'C:\\Users\\Intel7\\Desktop\\MAS\\all-MiniLM-L6-v2'\n",
    "model = SentenceTransformer(model_save_path)"
   ]
  },
  {
   "cell_type": "code",
   "execution_count": 3,
   "metadata": {},
   "outputs": [
    {
     "data": {
      "text/html": [
       "<div>\n",
       "<style scoped>\n",
       "    .dataframe tbody tr th:only-of-type {\n",
       "        vertical-align: middle;\n",
       "    }\n",
       "\n",
       "    .dataframe tbody tr th {\n",
       "        vertical-align: top;\n",
       "    }\n",
       "\n",
       "    .dataframe thead th {\n",
       "        text-align: right;\n",
       "    }\n",
       "</style>\n",
       "<table border=\"1\" class=\"dataframe\">\n",
       "  <thead>\n",
       "    <tr style=\"text-align: right;\">\n",
       "      <th></th>\n",
       "      <th>InvoiceNo</th>\n",
       "      <th>StockCode</th>\n",
       "      <th>Description</th>\n",
       "      <th>Quantity</th>\n",
       "      <th>InvoiceDate</th>\n",
       "      <th>UnitPrice</th>\n",
       "      <th>CustomerID</th>\n",
       "      <th>Country</th>\n",
       "      <th>OriginalDescription</th>\n",
       "    </tr>\n",
       "  </thead>\n",
       "  <tbody>\n",
       "    <tr>\n",
       "      <th>0</th>\n",
       "      <td>536365</td>\n",
       "      <td>85123A</td>\n",
       "      <td>white hanging heart tlight holder</td>\n",
       "      <td>6</td>\n",
       "      <td>12/1/2010 8:26</td>\n",
       "      <td>2.55</td>\n",
       "      <td>17850.0</td>\n",
       "      <td>United Kingdom</td>\n",
       "      <td>WHITE HANGING HEART T-LIGHT HOLDER</td>\n",
       "    </tr>\n",
       "    <tr>\n",
       "      <th>1</th>\n",
       "      <td>536365</td>\n",
       "      <td>71053</td>\n",
       "      <td>white metal lantern</td>\n",
       "      <td>6</td>\n",
       "      <td>12/1/2010 8:26</td>\n",
       "      <td>3.39</td>\n",
       "      <td>17850.0</td>\n",
       "      <td>United Kingdom</td>\n",
       "      <td>WHITE METAL LANTERN</td>\n",
       "    </tr>\n",
       "    <tr>\n",
       "      <th>2</th>\n",
       "      <td>536365</td>\n",
       "      <td>84406B</td>\n",
       "      <td>cream cupid hearts coat hanger</td>\n",
       "      <td>8</td>\n",
       "      <td>12/1/2010 8:26</td>\n",
       "      <td>2.75</td>\n",
       "      <td>17850.0</td>\n",
       "      <td>United Kingdom</td>\n",
       "      <td>CREAM CUPID HEARTS COAT HANGER</td>\n",
       "    </tr>\n",
       "    <tr>\n",
       "      <th>3</th>\n",
       "      <td>536365</td>\n",
       "      <td>84029G</td>\n",
       "      <td>knitted union flag hot water bottle</td>\n",
       "      <td>6</td>\n",
       "      <td>12/1/2010 8:26</td>\n",
       "      <td>3.39</td>\n",
       "      <td>17850.0</td>\n",
       "      <td>United Kingdom</td>\n",
       "      <td>KNITTED UNION FLAG HOT WATER BOTTLE</td>\n",
       "    </tr>\n",
       "    <tr>\n",
       "      <th>4</th>\n",
       "      <td>536365</td>\n",
       "      <td>84029E</td>\n",
       "      <td>red woolly hottie white heart</td>\n",
       "      <td>6</td>\n",
       "      <td>12/1/2010 8:26</td>\n",
       "      <td>3.39</td>\n",
       "      <td>17850.0</td>\n",
       "      <td>United Kingdom</td>\n",
       "      <td>RED WOOLLY HOTTIE WHITE HEART.</td>\n",
       "    </tr>\n",
       "  </tbody>\n",
       "</table>\n",
       "</div>"
      ],
      "text/plain": [
       "  InvoiceNo StockCode                          Description  Quantity  \\\n",
       "0    536365    85123A    white hanging heart tlight holder         6   \n",
       "1    536365     71053                  white metal lantern         6   \n",
       "2    536365    84406B       cream cupid hearts coat hanger         8   \n",
       "3    536365    84029G  knitted union flag hot water bottle         6   \n",
       "4    536365    84029E        red woolly hottie white heart         6   \n",
       "\n",
       "      InvoiceDate  UnitPrice  CustomerID         Country  \\\n",
       "0  12/1/2010 8:26       2.55     17850.0  United Kingdom   \n",
       "1  12/1/2010 8:26       3.39     17850.0  United Kingdom   \n",
       "2  12/1/2010 8:26       2.75     17850.0  United Kingdom   \n",
       "3  12/1/2010 8:26       3.39     17850.0  United Kingdom   \n",
       "4  12/1/2010 8:26       3.39     17850.0  United Kingdom   \n",
       "\n",
       "                   OriginalDescription  \n",
       "0   WHITE HANGING HEART T-LIGHT HOLDER  \n",
       "1                  WHITE METAL LANTERN  \n",
       "2       CREAM CUPID HEARTS COAT HANGER  \n",
       "3  KNITTED UNION FLAG HOT WATER BOTTLE  \n",
       "4       RED WOOLLY HOTTIE WHITE HEART.  "
      ]
     },
     "execution_count": 3,
     "metadata": {},
     "output_type": "execute_result"
    }
   ],
   "source": [
    "df = pd.read_csv(r'C:\\Users\\Intel7\\Desktop\\MAS\\Dataset\\data.csv', encoding=\"ISO-8859-1\")\n",
    "\n",
    "df['OriginalDescription'] = df['Description']\n",
    "\n",
    "# Data Cleaning\n",
    "df.dropna(subset=['Description'], inplace=True)  # Remove rows with missing descriptions\n",
    "df['Description'] = df['Description'].str.lower()  # Convert to lowercase\n",
    "df['Description'] = df['Description'].str.replace(r'[^a-zA-Z0-9 ]', '', regex=True)  # Remove special characters\n",
    "# elimination of NaN values\n",
    "df.dropna(inplace=True)\n",
    "# elimination of duplicate rows\n",
    "df.drop_duplicates(inplace=True)\n",
    "# elimination of cancelled orders\n",
    "df = df[~df['InvoiceNo'].str.startswith('C')]\n",
    "\n",
    "# remove duplicate descriptions \n",
    "df.drop_duplicates(subset=['Description'], inplace=True, ignore_index=True)\n",
    "df.head()"
   ]
  },
  {
   "cell_type": "code",
   "execution_count": 30,
   "metadata": {},
   "outputs": [],
   "source": [
    "# Encode the product descriptions\n",
    "descriptions = df['Description'].tolist()\n",
    "encoded_descriptions = model.encode(descriptions)\n",
    "\n",
    "# Create a Faiss index\n",
    "dim = encoded_descriptions.shape[1]\n",
    "index = faiss.IndexFlatL2(dim)\n",
    "\n",
    "# Add the encoded descriptions to the Faiss index\n",
    "index.add(encoded_descriptions)"
   ]
  },
  {
   "cell_type": "code",
   "execution_count": 31,
   "metadata": {},
   "outputs": [
    {
     "name": "stdout",
     "output_type": "stream",
     "text": [
      "2871\n",
      "BIG POLKADOT MUG\n",
      "Distance: 0.45231256\n",
      "\n",
      "1065\n",
      "GLAMOROUS  MUG\n",
      "Distance: 0.52221566\n",
      "\n",
      "1478\n",
      "POTTERING MUG\n",
      "Distance: 0.6258617\n",
      "\n",
      "925\n",
      "HOME SWEET HOME MUG\n",
      "Distance: 0.6635146\n",
      "\n",
      "1160\n",
      "LOCAL CAFE MUG\n",
      "Distance: 0.6828939\n",
      "\n"
     ]
    }
   ],
   "source": [
    "def search_faiss(query, model, index, k=5):\n",
    "    query = model.encode([query])[0]\n",
    "    query = np.expand_dims(query, axis=0)\n",
    "    Distances, Indices = index.search(query, k)\n",
    "    return Distances, Indices\n",
    "\n",
    "# Search for similar products\n",
    "query = \"big mug\"\n",
    "Distances, Indices = search_faiss(query, model, index)\n",
    "\n",
    "# Print the similar products\n",
    "for i in range(len(Indices[0])):\n",
    "    print(Indices[0][i])\n",
    "    print(df['OriginalDescription'].iloc[Indices[0][i]])\n",
    "    print('Distance:', Distances[0][i])\n",
    "    print()"
   ]
  },
  {
   "cell_type": "code",
   "execution_count": 32,
   "metadata": {},
   "outputs": [
    {
     "name": "stdout",
     "output_type": "stream",
     "text": [
      "Search results:\n",
      "CRYSTAL FROG PHONE CHARM\n",
      "CRYSTAL STILETTO PHONE CHARM\n",
      "CRYSTAL SEA HORSE PHONE CHARM\n",
      "PINK CRYSTAL SKULL PHONE CHARM\n",
      "PINK CRYSTAL GUITAR PHONE CHARM\n"
     ]
    }
   ],
   "source": [
    "from agno.agent import Agent\n",
    "\n",
    "class SearchAgent(Agent):\n",
    "    def __init__(self, index, model, df):\n",
    "        super().__init__()\n",
    "        self.index = index\n",
    "        self.model = model\n",
    "        self.df = df\n",
    "\n",
    "    def search(self, query, k=5):\n",
    "        encoded_query = self.model.encode([query])\n",
    "        distances, indices = self.index.search(encoded_query, k)\n",
    "        results = [self.df['OriginalDescription'].iloc[indices[0][i]] for i in range(len(indices[0]))]\n",
    "        return results\n",
    "\n",
    "# Initialize the search agent\n",
    "search_agent = SearchAgent(index=index, model=model, df=df)\n",
    "\n",
    "# Example usage\n",
    "query = \"Phone\"\n",
    "results = search_agent.search(query)\n",
    "print(\"Search results:\")\n",
    "for result in results:\n",
    "    print(result)"
   ]
  },
  {
   "cell_type": "markdown",
   "metadata": {},
   "source": [
    "## Agents"
   ]
  },
  {
   "cell_type": "code",
   "execution_count": 10,
   "metadata": {},
   "outputs": [
    {
     "name": "stdout",
     "output_type": "stream",
     "text": [
      "France is a vibrant country with a rich history, culture, and politics. Here's an overview of what's currently happening:\n",
      "\n",
      "1. **Protests and strikes**: As in many European countries, France has seen ongoing protests and strikes, particularly among pensioners, students, and workers. The main issues include economic inequality, pension reform, and government policies.\n",
      "2. **Climate change and environmental policies**: France is taking steps to address climate change and reduce carbon emissions. In 2020, the country set ambitious targets to become carbon neutral by 2050. However, critics argue that these goals are not being met quickly enough.\n",
      "3. **Brexit and EU politics**: As a key player in European politics, France has been impacted by Brexit. The UK's departure from the EU has created uncertainty for French businesses and citizens alike. France is also playing a significant role in shaping EU policies on issues like migration and security.\n",
      "4. **French presidential elections**: In 2022, Emmanuel Macron won re-election with a center-right coalition. However, his victory was seen as largely due to his popularity among business interests and the wealthy elite. Some critics argue that his campaign was marked by divisive rhetoric and inequalities.\n",
      "5. **Social issues and debates**: France has been grappling with various social issues, such as:\n",
      "\t* The ongoing Yellow Vest protests (Gilets Jaunes), which began in 2018 and highlight economic disparities, inequality, and environmental concerns.\n",
      "\t* Discussions around LGBTQ+ rights, racial equality, and anti-racism measures.\n",
      "\t* Debates on free speech, blasphemy laws, and censorship.\n",
      "\n",
      "These are just a few examples of what's happening in France. The country is constantly evolving, with new developments emerging regularly.\n",
      "\n",
      "Would you like me to provide more information or ask follow-up questions?\n"
     ]
    }
   ],
   "source": [
    "from agno.agent import Agent, RunResponse\n",
    "from agno.models.ollama import Ollama\n",
    "from agno.tools.duckduckgo import DuckDuckGoTools\n",
    "\n",
    "\n",
    "agent = Agent(\n",
    "    model=Ollama(id=\"llama3.2\"),\n",
    "    markdown=False,\n",
    "    description=\"You are chatting agent chat can answer questions and ask follow-up questions.\",\n",
    ")\n",
    "\n",
    "response = agent.run(\"Whats happening in France?\")\n",
    "print(response.content)"
   ]
  },
  {
   "cell_type": "code",
   "execution_count": 21,
   "metadata": {},
   "outputs": [
    {
     "data": {
      "text/html": [
       "<pre style=\"white-space:pre;overflow-x:auto;line-height:normal;font-family:Menlo,'DejaVu Sans Mono',consolas,'Courier New',monospace\">c:\\Users\\Intel7\\Desktop\\MAS\\myenv\\Lib\\site-packages\\rich\\live.py:231: UserWarning: install \"ipywidgets\" for Jupyter\n",
       "support\n",
       "  warnings.warn('install \"ipywidgets\" for Jupyter support')\n",
       "</pre>\n"
      ],
      "text/plain": [
       "c:\\Users\\Intel7\\Desktop\\MAS\\myenv\\Lib\\site-packages\\rich\\live.py:231: UserWarning: install \"ipywidgets\" for Jupyter\n",
       "support\n",
       "  warnings.warn('install \"ipywidgets\" for Jupyter support')\n"
      ]
     },
     "metadata": {},
     "output_type": "display_data"
    },
    {
     "data": {
      "text/html": [
       "<pre style=\"white-space:pre;overflow-x:auto;line-height:normal;font-family:Menlo,'DejaVu Sans Mono',consolas,'Courier New',monospace\"></pre>\n"
      ],
      "text/plain": []
     },
     "metadata": {},
     "output_type": "display_data"
    }
   ],
   "source": [
    "from agno.agent import Agent, RunResponse\n",
    "from agno.models.huggingface import HuggingFace\n",
    "from agno.tools.googlesearch import GoogleSearchTools\n",
    "from agno.tools.wikipedia import WikipediaTools\n",
    "from agno.tools.yfinance import YFinanceTools\n",
    "import os\n",
    "from agno.models.ollama import Ollama\n",
    "from agno.tools.duckduckgo import DuckDuckGoTools\n",
    "from pydantic import BaseModel, Field\n",
    "\n",
    "class Product(BaseModel):\n",
    "    product_name: str = Field(..., title=\"Product Name\")\n",
    "    description: str = Field(..., title=\"Description\")\n",
    "    url: str = Field(..., title=\"URL\")\n",
    "\n",
    "class WebSearchResults(BaseModel):\n",
    "    products: list[Product] = Field(..., title=\"Products\")\n",
    "\n",
    "web_agent = Agent(\n",
    "    model=Ollama(id = \"llama3.2\"),\n",
    "    tools=[DuckDuckGoTools(), GoogleSearchTools()],\n",
    "    show_tool_calls=True,\n",
    "    description=\"You are an web search agent to help user for product recommendation.\",\n",
    "    # response_model=WebSearchResults,\n",
    "    instructions=[\n",
    "        \"You will be provides with an query from user about which type of product he/she wants to buy.\",\n",
    "        \"Carefully read the query and provide the user with the top 5 products that match the query.\",\n",
    "        \"Make sure to provide the product name, description and URL of the product.\",\n",
    "    ],\n",
    "    markdown=True,\n",
    "    stream=True,\n",
    ")\n",
    "\n",
    "web_agent.print_response(\n",
    "    \"Phone\", stream=True\n",
    ")"
   ]
  },
  {
   "cell_type": "code",
   "execution_count": 39,
   "metadata": {},
   "outputs": [
    {
     "data": {
      "text/html": [
       "<pre style=\"white-space:pre;overflow-x:auto;line-height:normal;font-family:Menlo,'DejaVu Sans Mono',consolas,'Courier New',monospace\"><span style=\"color: #808000; text-decoration-color: #808000\">WARNING </span> Could not run function <span style=\"color: #800080; text-decoration-color: #800080; font-weight: bold\">duckduckgo_search</span><span style=\"font-weight: bold\">(</span><span style=\"color: #808000; text-decoration-color: #808000\">max_results</span>=<span style=\"color: #008080; text-decoration-color: #008080; font-weight: bold\">5</span>, <span style=\"color: #808000; text-decoration-color: #808000\">query</span>=<span style=\"color: #800080; text-decoration-color: #800080\">phone</span> products<span style=\"font-weight: bold\">)</span>                             \n",
       "</pre>\n"
      ],
      "text/plain": [
       "\u001b[33mWARNING \u001b[0m Could not run function \u001b[1;35mduckduckgo_search\u001b[0m\u001b[1m(\u001b[0m\u001b[33mmax_results\u001b[0m=\u001b[1;36m5\u001b[0m, \u001b[33mquery\u001b[0m=\u001b[35mphone\u001b[0m products\u001b[1m)\u001b[0m                             \n"
      ]
     },
     "metadata": {},
     "output_type": "display_data"
    },
    {
     "data": {
      "text/html": [
       "<pre style=\"white-space:pre;overflow-x:auto;line-height:normal;font-family:Menlo,'DejaVu Sans Mono',consolas,'Courier New',monospace\"><span style=\"color: #800000; text-decoration-color: #800000; font-weight: bold\">ERROR   </span> <span style=\"color: #0000ff; text-decoration-color: #0000ff; text-decoration: underline\">https://html.duckduckgo.com/html</span> <span style=\"color: #008080; text-decoration-color: #008080; font-weight: bold\">202</span> Ratelimit                                                            \n",
       "         Traceback <span style=\"font-weight: bold\">(</span>most recent call last<span style=\"font-weight: bold\">)</span>:                                                                        \n",
       "           File <span style=\"color: #008000; text-decoration-color: #008000\">\"c:\\Users\\Intel7\\Desktop\\MAS\\myenv\\Lib\\site-packages\\agno\\tools\\function.py\"</span>, line <span style=\"color: #008080; text-decoration-color: #008080; font-weight: bold\">359</span>, in execute \n",
       "             self.result = <span style=\"color: #800080; text-decoration-color: #800080; font-weight: bold\">self.function.entrypoint</span><span style=\"font-weight: bold\">(</span>**entrypoint_args, **self.arguments<span style=\"font-weight: bold\">)</span>                           \n",
       "                           ^^^^^^^^^^^^^^^^^^^^^^^^^^^^^^^^^^^^^^^^^^^^^^^^^^^^^^^^^^^^^                           \n",
       "           File <span style=\"color: #008000; text-decoration-color: #008000\">\"c:\\Users\\Intel7\\Desktop\\MAS\\myenv\\Lib\\site-packages\\pydantic\\_internal\\_validate_call.py\"</span>, line   \n",
       "         <span style=\"color: #008080; text-decoration-color: #008080; font-weight: bold\">38</span>, in wrapper_function                                                                                   \n",
       "             return <span style=\"color: #800080; text-decoration-color: #800080; font-weight: bold\">wrapper</span><span style=\"font-weight: bold\">(</span>*args, **kwargs<span style=\"font-weight: bold\">)</span>                                                                       \n",
       "                    ^^^^^^^^^^^^^^^^^^^^^^^^                                                                       \n",
       "           File <span style=\"color: #008000; text-decoration-color: #008000\">\"c:\\Users\\Intel7\\Desktop\\MAS\\myenv\\Lib\\site-packages\\pydantic\\_internal\\_validate_call.py\"</span>, line   \n",
       "         <span style=\"color: #008080; text-decoration-color: #008080; font-weight: bold\">111</span>, in __call__                                                                                          \n",
       "             res = <span style=\"color: #800080; text-decoration-color: #800080; font-weight: bold\">self.__pydantic_validator__.validate_python</span><span style=\"font-weight: bold\">(</span><span style=\"color: #800080; text-decoration-color: #800080; font-weight: bold\">pydantic_core.ArgsKwargs</span><span style=\"font-weight: bold\">(</span>args, kwargs<span style=\"font-weight: bold\">))</span>             \n",
       "                   ^^^^^^^^^^^^^^^^^^^^^^^^^^^^^^^^^^^^^^^^^^^^^^^^^^^^^^^^^^^^^^^^^^^^^^^^^^^^^^^^^^^             \n",
       "           File <span style=\"color: #008000; text-decoration-color: #008000\">\"c:\\Users\\Intel7\\Desktop\\MAS\\myenv\\Lib\\site-packages\\agno\\tools\\duckduckgo.py\"</span>, line <span style=\"color: #008080; text-decoration-color: #008080; font-weight: bold\">68</span>, in        \n",
       "         duckduckgo_search                                                                                         \n",
       "             return <span style=\"color: #800080; text-decoration-color: #800080; font-weight: bold\">json.dumps</span><span style=\"font-weight: bold\">(</span><span style=\"color: #800080; text-decoration-color: #800080; font-weight: bold\">ddgs.text</span><span style=\"font-weight: bold\">(</span><span style=\"color: #808000; text-decoration-color: #808000\">keywords</span>=<span style=\"color: #800080; text-decoration-color: #800080\">query</span>, <span style=\"color: #808000; text-decoration-color: #808000\">max_results</span>=<span style=\"font-weight: bold\">(</span>self.fixed_max_results or max_results<span style=\"font-weight: bold\">))</span>,     \n",
       "         <span style=\"color: #808000; text-decoration-color: #808000\">indent</span>=<span style=\"color: #008080; text-decoration-color: #008080; font-weight: bold\">2</span><span style=\"font-weight: bold\">)</span>                                                                                                 \n",
       "                               ^^^^^^^^^^^^^^^^^^^^^^^^^^^^^^^^^^^^^^^^^^^^^^^^^^^^^^^^^^^^^^^^^^^^^^^^^^^^^^      \n",
       "           File <span style=\"color: #008000; text-decoration-color: #008000\">\"c:\\Users\\Intel7\\Desktop\\MAS\\myenv\\Lib\\site-packages\\duckduckgo_search\\duckduckgo_search.py\"</span>, line \n",
       "         <span style=\"color: #008080; text-decoration-color: #008080; font-weight: bold\">252</span>, in text                                                                                              \n",
       "             raise <span style=\"color: #800080; text-decoration-color: #800080; font-weight: bold\">DuckDuckGoSearchException</span><span style=\"font-weight: bold\">(</span>err<span style=\"font-weight: bold\">)</span>                                                                  \n",
       "         duckduckgo_search.exceptions.DuckDuckGoSearchException: <span style=\"color: #0000ff; text-decoration-color: #0000ff; text-decoration: underline\">https://html.duckduckgo.com/html</span> <span style=\"color: #008080; text-decoration-color: #008080; font-weight: bold\">202</span> Ratelimit    \n",
       "</pre>\n"
      ],
      "text/plain": [
       "\u001b[1;31mERROR   \u001b[0m \u001b[4;94mhttps://html.duckduckgo.com/html\u001b[0m \u001b[1;36m202\u001b[0m Ratelimit                                                            \n",
       "         Traceback \u001b[1m(\u001b[0mmost recent call last\u001b[1m)\u001b[0m:                                                                        \n",
       "           File \u001b[32m\"c:\\Users\\Intel7\\Desktop\\MAS\\myenv\\Lib\\site-packages\\agno\\tools\\function.py\"\u001b[0m, line \u001b[1;36m359\u001b[0m, in execute \n",
       "             self.result = \u001b[1;35mself.function.entrypoint\u001b[0m\u001b[1m(\u001b[0m**entrypoint_args, **self.arguments\u001b[1m)\u001b[0m                           \n",
       "                           ^^^^^^^^^^^^^^^^^^^^^^^^^^^^^^^^^^^^^^^^^^^^^^^^^^^^^^^^^^^^^                           \n",
       "           File \u001b[32m\"c:\\Users\\Intel7\\Desktop\\MAS\\myenv\\Lib\\site-packages\\pydantic\\_internal\\_validate_call.py\"\u001b[0m, line   \n",
       "         \u001b[1;36m38\u001b[0m, in wrapper_function                                                                                   \n",
       "             return \u001b[1;35mwrapper\u001b[0m\u001b[1m(\u001b[0m*args, **kwargs\u001b[1m)\u001b[0m                                                                       \n",
       "                    ^^^^^^^^^^^^^^^^^^^^^^^^                                                                       \n",
       "           File \u001b[32m\"c:\\Users\\Intel7\\Desktop\\MAS\\myenv\\Lib\\site-packages\\pydantic\\_internal\\_validate_call.py\"\u001b[0m, line   \n",
       "         \u001b[1;36m111\u001b[0m, in __call__                                                                                          \n",
       "             res = \u001b[1;35mself.__pydantic_validator__.validate_python\u001b[0m\u001b[1m(\u001b[0m\u001b[1;35mpydantic_core.ArgsKwargs\u001b[0m\u001b[1m(\u001b[0margs, kwargs\u001b[1m)\u001b[0m\u001b[1m)\u001b[0m             \n",
       "                   ^^^^^^^^^^^^^^^^^^^^^^^^^^^^^^^^^^^^^^^^^^^^^^^^^^^^^^^^^^^^^^^^^^^^^^^^^^^^^^^^^^^             \n",
       "           File \u001b[32m\"c:\\Users\\Intel7\\Desktop\\MAS\\myenv\\Lib\\site-packages\\agno\\tools\\duckduckgo.py\"\u001b[0m, line \u001b[1;36m68\u001b[0m, in        \n",
       "         duckduckgo_search                                                                                         \n",
       "             return \u001b[1;35mjson.dumps\u001b[0m\u001b[1m(\u001b[0m\u001b[1;35mddgs.text\u001b[0m\u001b[1m(\u001b[0m\u001b[33mkeywords\u001b[0m=\u001b[35mquery\u001b[0m, \u001b[33mmax_results\u001b[0m=\u001b[1m(\u001b[0mself.fixed_max_results or max_results\u001b[1m)\u001b[0m\u001b[1m)\u001b[0m,     \n",
       "         \u001b[33mindent\u001b[0m=\u001b[1;36m2\u001b[0m\u001b[1m)\u001b[0m                                                                                                 \n",
       "                               ^^^^^^^^^^^^^^^^^^^^^^^^^^^^^^^^^^^^^^^^^^^^^^^^^^^^^^^^^^^^^^^^^^^^^^^^^^^^^^      \n",
       "           File \u001b[32m\"c:\\Users\\Intel7\\Desktop\\MAS\\myenv\\Lib\\site-packages\\duckduckgo_search\\duckduckgo_search.py\"\u001b[0m, line \n",
       "         \u001b[1;36m252\u001b[0m, in text                                                                                              \n",
       "             raise \u001b[1;35mDuckDuckGoSearchException\u001b[0m\u001b[1m(\u001b[0merr\u001b[1m)\u001b[0m                                                                  \n",
       "         duckduckgo_search.exceptions.DuckDuckGoSearchException: \u001b[4;94mhttps://html.duckduckgo.com/html\u001b[0m \u001b[1;36m202\u001b[0m Ratelimit    \n"
      ]
     },
     "metadata": {},
     "output_type": "display_data"
    },
    {
     "data": {
      "text/html": [
       "<pre style=\"white-space:pre;overflow-x:auto;line-height:normal;font-family:Menlo,'DejaVu Sans Mono',consolas,'Courier New',monospace\"><span style=\"color: #808000; text-decoration-color: #808000\">WARNING </span> Failed to convert response to response_model                                                              \n",
       "</pre>\n"
      ],
      "text/plain": [
       "\u001b[33mWARNING \u001b[0m Failed to convert response to response_model                                                              \n"
      ]
     },
     "metadata": {},
     "output_type": "display_data"
    }
   ],
   "source": [
    "from agno.workflow import Workflow\n",
    "\n",
    "class WebSearchResults(BaseModel):\n",
    "    products: list[str]\n",
    "\n",
    "class SearchWorkflow(Workflow):\n",
    "    \n",
    "    # Define chat agent\n",
    "    chat_agent: Agent = Agent(\n",
    "        model=Ollama(id=\"llama3.2\"),\n",
    "        markdown=False,\n",
    "        description=\"You have to help the user for product recommendation.\",\n",
    "        instructions=[\n",
    "            \"You will be provided with a 5 product recommendations based from web search agent.\",\n",
    "            \"You have to present these recommendations to the user and summarize the recommendations.\",\n",
    "            \"You have to ask the user appropriate questions to understand the user's requirement.\",\n",
    "        ],\n",
    "    )\n",
    "\n",
    "    # Define web search agent\n",
    "    web_agent: Agent = Agent(\n",
    "            model=Ollama(id = \"llama3.2\"),\n",
    "            tools=[GoogleSearchTools(fixed_max_results=100000), DuckDuckGoTools(fixed_max_results=100000)],\n",
    "            show_tool_calls=True,\n",
    "            description=\"You are an web search agent to help user for product recommendation.\",\n",
    "            response_model=WebSearchResults,\n",
    "            instructions=[\n",
    "                \"You will be provides with an query from user about which type of product he/she wants to buy.\",\n",
    "                \"Carefully read the query and provide the user with the top 5 products that match the query.\",\n",
    "                \"Make sure to provide the product name, description and URL of the product.\",\n",
    "                \"Give it as a list of products.\",\n",
    "            ],\n",
    "            structured_outputs=False,\n",
    "            markdown=True,\n",
    "            stream=True,\n",
    "        )\n",
    "\n",
    "    # Define workflow steps\n",
    "    def run(self, query: str = \"\") -> RunResponse:\n",
    "        \n",
    "        # Get web search response\n",
    "        web_response = self.web_agent.run(query)\n",
    "        web_content = web_response.content\n",
    "\n",
    "        # Get chat response\n",
    "        chat_response = self.chat_agent.run(web_content)\n",
    "        chat_content = chat_response.content\n",
    "\n",
    "        # Combine chat and web search responses\n",
    "        content = f\"{chat_content}\\n\\n{web_content}\"\n",
    "        return RunResponse(content=content)\n",
    "    \n",
    "# Initialize the workflow\n",
    "workflow = SearchWorkflow()\n",
    "\n",
    "# Run the workflow\n",
    "response = workflow.run(query=\"Phone\")"
   ]
  },
  {
   "cell_type": "code",
   "execution_count": null,
   "metadata": {},
   "outputs": [],
   "source": []
  }
 ],
 "metadata": {
  "kernelspec": {
   "display_name": "myenv",
   "language": "python",
   "name": "python3"
  },
  "language_info": {
   "codemirror_mode": {
    "name": "ipython",
    "version": 3
   },
   "file_extension": ".py",
   "mimetype": "text/x-python",
   "name": "python",
   "nbconvert_exporter": "python",
   "pygments_lexer": "ipython3",
   "version": "3.11.0"
  }
 },
 "nbformat": 4,
 "nbformat_minor": 2
}
